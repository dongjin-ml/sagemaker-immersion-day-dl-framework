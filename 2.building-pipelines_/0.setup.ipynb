{
 "cells": [
  {
   "cell_type": "markdown",
   "id": "8f3dd71b-f63a-4106-b323-67be004b482e",
   "metadata": {},
   "source": [
    "# <B> Setup for SageMaker Immersion Day with DL Framework </B>\n",
    "* Container: conda_python3"
   ]
  },
  {
   "cell_type": "markdown",
   "id": "aaeaff49-a119-4a0c-b48a-f66ab721c458",
   "metadata": {},
   "source": [
    "## AutoReload"
   ]
  },
  {
   "cell_type": "code",
   "execution_count": 25,
   "id": "9f8f8f99-aaa0-42f9-8695-c8bd1884504c",
   "metadata": {
    "tags": []
   },
   "outputs": [
    {
     "name": "stdout",
     "output_type": "stream",
     "text": [
      "The autoreload extension is already loaded. To reload it, use:\n",
      "  %reload_ext autoreload\n"
     ]
    }
   ],
   "source": [
    "%load_ext autoreload\n",
    "%autoreload 2"
   ]
  },
  {
   "cell_type": "markdown",
   "id": "9d235cc4-356c-43e0-99ca-fea913797c99",
   "metadata": {},
   "source": [
    "## 1. Set roles"
   ]
  },
  {
   "cell_type": "code",
   "execution_count": 26,
   "id": "1f3a2019-2337-4b48-9bd8-f577ac13daed",
   "metadata": {
    "tags": []
   },
   "outputs": [],
   "source": [
    "from sagemaker import get_execution_role"
   ]
  },
  {
   "cell_type": "code",
   "execution_count": 27,
   "id": "3be71d18-b4b7-4196-abf1-1922f3013c4e",
   "metadata": {
    "tags": []
   },
   "outputs": [
    {
     "name": "stdout",
     "output_type": "stream",
     "text": [
      "SageMaker Execution Role Name: AmazonSageMaker-ExecutionRole-20221206T163436\n"
     ]
    }
   ],
   "source": [
    "strSageMakerRoleName = get_execution_role().rsplit('/', 1)[-1]\n",
    "print (f\"SageMaker Execution Role Name: {strSageMakerRoleName}\")"
   ]
  },
  {
   "cell_type": "markdown",
   "id": "8acda191-5a24-4904-b637-92e9bfd580e2",
   "metadata": {},
   "source": [
    "### 1.1 Attach IAM polich to sagemaker execution role (<b>with console</b>)\n",
    "> step 1. IAM console 로 이동    \n",
    ">\n",
    "> step 2. 왼쪽 네비게이터에서  \"Role\" 선택  \n",
    "> ![nn](images/Role.png)  \n",
    ">\n",
    "> step 3. SageMaker Execution Role 검색 후 role 선택 (상위 cell output 참조)  \n",
    "> ![nn](images/search-by-rolename.png)  \n",
    ">\n",
    "> step 4. \"attach policies\" 메뉴 선택 \n",
    "> ![nn](images/attach-policy-menu.png)  \n",
    ">\n",
    "> step 5. \"IAMFullAccess\" policy 검색 후 attach \n",
    "> ![nn](images/attach-policy.png) "
   ]
  },
  {
   "cell_type": "code",
   "execution_count": 28,
   "id": "c258dc86-c198-4458-8679-ae99eddfd01c",
   "metadata": {
    "tags": []
   },
   "outputs": [],
   "source": [
    "from utils.iam import iam_handler"
   ]
  },
  {
   "cell_type": "code",
   "execution_count": 29,
   "id": "a54390cd-9d8b-49c3-8f2c-1bfaed27936e",
   "metadata": {
    "tags": []
   },
   "outputs": [],
   "source": [
    "iam = iam_handler()"
   ]
  },
  {
   "cell_type": "code",
   "execution_count": 30,
   "id": "8e152954-1c5f-4408-acf1-96a946b389cc",
   "metadata": {
    "tags": []
   },
   "outputs": [],
   "source": [
    "strID = \"DJ\"\n",
    "strPrefix = f'{strID}-SM-IMD'"
   ]
  },
  {
   "cell_type": "code",
   "execution_count": 54,
   "id": "2e2065e1-7a8a-49a8-8661-886e3ea7dc15",
   "metadata": {
    "tags": []
   },
   "outputs": [
    {
     "data": {
      "text/plain": [
       "'DJ-SM-IMD'"
      ]
     },
     "execution_count": 54,
     "metadata": {},
     "output_type": "execute_result"
    }
   ],
   "source": [
    "strPrefix"
   ]
  },
  {
   "cell_type": "markdown",
   "id": "b227ef91-1417-4295-9534-3196766279f8",
   "metadata": {},
   "source": [
    "### 1.2 Attach policy - sagemaker execution role\n",
    "> SSM  \n",
    "> S3 <BR>\n",
    "> CodeCommit <BR>\n",
    "> CodeBuild <BR>\n",
    "> CodePipeline <BR>\n",
    "> EventBridge <BR>\n",
    "> Lambda"
   ]
  },
  {
   "cell_type": "code",
   "execution_count": 31,
   "id": "6c963c5c-ff7c-4622-b45f-6ead188d3e75",
   "metadata": {
    "tags": []
   },
   "outputs": [],
   "source": [
    "listPolicyArn=[\n",
    "    \"arn:aws:iam::aws:policy/AmazonSSMFullAccess\",\n",
    "    \"arn:aws:iam::aws:policy/AmazonS3FullAccess\",\n",
    "    \"arn:aws:iam::aws:policy/AWSCodeCommitFullAccess\",\n",
    "    \"arn:aws:iam::aws:policy/AWSCodeBuildAdminAccess\",\n",
    "    \"arn:aws:iam::aws:policy/AWSCodePipeline_FullAccess\",\n",
    "    \"arn:aws:iam::aws:policy/AmazonEventBridgeFullAccess\",\n",
    "    \"arn:aws:iam::aws:policy/AWSLambda_FullAccess\"\n",
    "]\n",
    "for strPolicyArn in listPolicyArn: iam.attach_policy(strSageMakerRoleName, strPolicyArn)"
   ]
  },
  {
   "cell_type": "markdown",
   "id": "be7efd68-8807-4df9-b44c-a0e390467ad4",
   "metadata": {},
   "source": [
    "### 1.3 Create role for lambda"
   ]
  },
  {
   "cell_type": "code",
   "execution_count": 32,
   "id": "26b57063-9b68-48ce-96a6-03de36614436",
   "metadata": {
    "tags": []
   },
   "outputs": [],
   "source": [
    "listService = [\"lambda.amazonaws.com\"]\n",
    "strRoleName = \"-\".join([strPrefix, \"LabmdaRole\"])\n",
    "listPolicyArn = [\n",
    "    \"arn:aws:iam::aws:policy/service-role/AWSLambdaBasicExecutionRole\",\n",
    "    \"arn:aws:iam::aws:policy/AWSLambda_FullAccess\",\n",
    "    \"arn:aws:iam::aws:policy/AmazonSageMakerFullAccess\",\n",
    "]\n",
    "strDescription=\"Role for Lambda to call SageMaker functions'\""
   ]
  },
  {
   "cell_type": "code",
   "execution_count": 33,
   "id": "cca0ef7d-41c7-4338-b157-43a2fc049dc2",
   "metadata": {
    "tags": []
   },
   "outputs": [
    {
     "name": "stdout",
     "output_type": "stream",
     "text": [
      "== CREATE ROLE ==\n",
      "  Role Name: [DJ-SM-IMD-LabmdaRole] is already exist!!, so, this will be deleted and re-created.\n",
      "{'ResponseMetadata': {'RequestId': 'ef9bc0a2-2bbd-46bf-adb5-2a2e91b1ff4b', 'HTTPStatusCode': 200, 'HTTPHeaders': {'x-amzn-requestid': 'ef9bc0a2-2bbd-46bf-adb5-2a2e91b1ff4b', 'content-type': 'text/xml', 'content-length': '212', 'date': 'Mon, 08 May 2023 08:08:17 GMT'}, 'RetryAttempts': 0}}\n",
      "arn:aws:iam::aws:policy/service-role/AWSLambdaBasicExecutionRole\n",
      "{'ResponseMetadata': {'RequestId': 'c00ffda3-4b99-437b-96dd-9a84fdb82ad2', 'HTTPStatusCode': 200, 'HTTPHeaders': {'x-amzn-requestid': 'c00ffda3-4b99-437b-96dd-9a84fdb82ad2', 'content-type': 'text/xml', 'content-length': '212', 'date': 'Mon, 08 May 2023 08:08:17 GMT'}, 'RetryAttempts': 0}}\n",
      "arn:aws:iam::aws:policy/AmazonSageMakerFullAccess\n",
      "{'ResponseMetadata': {'RequestId': '8ccb1c7d-e8b5-4823-b10a-aa25a9191f6c', 'HTTPStatusCode': 200, 'HTTPHeaders': {'x-amzn-requestid': '8ccb1c7d-e8b5-4823-b10a-aa25a9191f6c', 'content-type': 'text/xml', 'content-length': '212', 'date': 'Mon, 08 May 2023 08:08:17 GMT'}, 'RetryAttempts': 0}}\n",
      "arn:aws:iam::aws:policy/AWSLambda_FullAccess\n",
      "  Service name: ['lambda.amazonaws.com'], \n",
      "  Role name: DJ-SM-IMD-LabmdaRole, \n",
      "  Policys: ['arn:aws:iam::aws:policy/service-role/AWSLambdaBasicExecutionRole', 'arn:aws:iam::aws:policy/AWSLambda_FullAccess', 'arn:aws:iam::aws:policy/AmazonSageMakerFullAccess'], \n",
      "  Role ARN: arn:aws:iam::419974056037:role/DJ-SM-IMD-LabmdaRole\n",
      "== COMPLETED ==\n"
     ]
    }
   ],
   "source": [
    "lambdaRoleArn = iam.create_role(\n",
    "    listService=listService,\n",
    "    strRoleName=strRoleName,\n",
    "    listPolicyArn = listPolicyArn,\n",
    "    strDescription=strDescription\n",
    ")"
   ]
  },
  {
   "cell_type": "markdown",
   "id": "b3f8125a-f642-4e5e-96a9-342ba4286e1d",
   "metadata": {
    "tags": []
   },
   "source": [
    "### 1.4 role-codebuild"
   ]
  },
  {
   "cell_type": "code",
   "execution_count": 34,
   "id": "641cf8dd-7fcf-4851-b90b-3ea82fe99726",
   "metadata": {
    "tags": []
   },
   "outputs": [],
   "source": [
    "listService = [\"codebuild.amazonaws.com\", \"sagemaker.amazonaws.com\"]\n",
    "strRoleName = \"-\".join([strPrefix, \"CodeBuildRole\"])\n",
    "listPolicyArn = [\n",
    "    \"arn:aws:iam::aws:policy/AWSCodeCommitFullAccess\",\n",
    "    \"arn:aws:iam::aws:policy/AWSCodeBuildAdminAccess\",\n",
    "    \"arn:aws:iam::aws:policy/AmazonS3FullAccess\",\n",
    "    \"arn:aws:iam::aws:policy/CloudWatchFullAccess\",\n",
    "    \"arn:aws:iam::aws:policy/AmazonSageMakerFullAccess\",\n",
    "    \"arn:aws:iam::aws:policy/AWSLambda_FullAccess\",\n",
    "    \"arn:aws:iam::aws:policy/AmazonSSMFullAccess\",\n",
    "]\n",
    "strDescription=\"Role for CodeBuild\""
   ]
  },
  {
   "cell_type": "code",
   "execution_count": 35,
   "id": "d6e4a6a5-fa94-4cd0-b123-a0997f7afe42",
   "metadata": {
    "tags": []
   },
   "outputs": [
    {
     "name": "stdout",
     "output_type": "stream",
     "text": [
      "== CREATE ROLE ==\n",
      "  Role Name: [DJ-SM-IMD-CodeBuildRole] is already exist!!, so, this will be deleted and re-created.\n",
      "{'ResponseMetadata': {'RequestId': 'a70c6712-8b42-4800-89dd-15d3fe18560c', 'HTTPStatusCode': 200, 'HTTPHeaders': {'x-amzn-requestid': 'a70c6712-8b42-4800-89dd-15d3fe18560c', 'content-type': 'text/xml', 'content-length': '212', 'date': 'Mon, 08 May 2023 08:08:18 GMT'}, 'RetryAttempts': 0}}\n",
      "arn:aws:iam::aws:policy/AmazonSSMFullAccess\n",
      "{'ResponseMetadata': {'RequestId': 'df128b89-ce9c-4c6a-b148-de44c75f0ea4', 'HTTPStatusCode': 200, 'HTTPHeaders': {'x-amzn-requestid': 'df128b89-ce9c-4c6a-b148-de44c75f0ea4', 'content-type': 'text/xml', 'content-length': '212', 'date': 'Mon, 08 May 2023 08:08:18 GMT'}, 'RetryAttempts': 0}}\n",
      "arn:aws:iam::aws:policy/AWSCodeBuildAdminAccess\n",
      "{'ResponseMetadata': {'RequestId': '44d85618-55b6-4b6f-8222-87fa420f3479', 'HTTPStatusCode': 200, 'HTTPHeaders': {'x-amzn-requestid': '44d85618-55b6-4b6f-8222-87fa420f3479', 'content-type': 'text/xml', 'content-length': '212', 'date': 'Mon, 08 May 2023 08:08:18 GMT'}, 'RetryAttempts': 0}}\n",
      "arn:aws:iam::aws:policy/AWSCodeCommitFullAccess\n",
      "{'ResponseMetadata': {'RequestId': '55eca488-0333-473f-b582-c9914b12c198', 'HTTPStatusCode': 200, 'HTTPHeaders': {'x-amzn-requestid': '55eca488-0333-473f-b582-c9914b12c198', 'content-type': 'text/xml', 'content-length': '212', 'date': 'Mon, 08 May 2023 08:08:18 GMT'}, 'RetryAttempts': 0}}\n",
      "arn:aws:iam::aws:policy/CloudWatchFullAccess\n",
      "{'ResponseMetadata': {'RequestId': '78658a53-bc6d-420d-a5c1-6fddcb8e0baa', 'HTTPStatusCode': 200, 'HTTPHeaders': {'x-amzn-requestid': '78658a53-bc6d-420d-a5c1-6fddcb8e0baa', 'content-type': 'text/xml', 'content-length': '212', 'date': 'Mon, 08 May 2023 08:08:18 GMT'}, 'RetryAttempts': 0}}\n",
      "arn:aws:iam::aws:policy/AmazonSageMakerFullAccess\n",
      "{'ResponseMetadata': {'RequestId': '39f2c700-9e94-4a2c-bb72-bd54d749b68c', 'HTTPStatusCode': 200, 'HTTPHeaders': {'x-amzn-requestid': '39f2c700-9e94-4a2c-bb72-bd54d749b68c', 'content-type': 'text/xml', 'content-length': '212', 'date': 'Mon, 08 May 2023 08:08:18 GMT'}, 'RetryAttempts': 0}}\n",
      "arn:aws:iam::aws:policy/AmazonS3FullAccess\n",
      "{'ResponseMetadata': {'RequestId': 'feb32f6b-9d88-4972-9675-6e8be22fd12e', 'HTTPStatusCode': 200, 'HTTPHeaders': {'x-amzn-requestid': 'feb32f6b-9d88-4972-9675-6e8be22fd12e', 'content-type': 'text/xml', 'content-length': '212', 'date': 'Mon, 08 May 2023 08:08:18 GMT'}, 'RetryAttempts': 0}}\n",
      "arn:aws:iam::aws:policy/AWSLambda_FullAccess\n",
      "  Service name: ['codebuild.amazonaws.com', 'sagemaker.amazonaws.com'], \n",
      "  Role name: DJ-SM-IMD-CodeBuildRole, \n",
      "  Policys: ['arn:aws:iam::aws:policy/AWSCodeCommitFullAccess', 'arn:aws:iam::aws:policy/AWSCodeBuildAdminAccess', 'arn:aws:iam::aws:policy/AmazonS3FullAccess', 'arn:aws:iam::aws:policy/CloudWatchFullAccess', 'arn:aws:iam::aws:policy/AmazonSageMakerFullAccess', 'arn:aws:iam::aws:policy/AWSLambda_FullAccess', 'arn:aws:iam::aws:policy/AmazonSSMFullAccess'], \n",
      "  Role ARN: arn:aws:iam::419974056037:role/DJ-SM-IMD-CodeBuildRole\n",
      "== COMPLETED ==\n",
      "CODE-BUILD-ROLE-ARN: arn:aws:iam::419974056037:role/DJ-SM-IMD-CodeBuildRole\n"
     ]
    }
   ],
   "source": [
    "buildRoleArn = iam.create_role(\n",
    "    listService=listService,\n",
    "    strRoleName=strRoleName,\n",
    "    listPolicyArn = listPolicyArn,\n",
    "    strDescription=strDescription\n",
    ")\n",
    "print (f\"CODE-BUILD-ROLE-ARN: {buildRoleArn}\")"
   ]
  },
  {
   "cell_type": "markdown",
   "id": "b9a09e07-80a0-40a2-a8a2-9cf763aa11a6",
   "metadata": {
    "tags": []
   },
   "source": [
    "### 1.5 role-codepipeline"
   ]
  },
  {
   "cell_type": "code",
   "execution_count": 36,
   "id": "12eb5771-59de-4e66-aa2d-bfad4d9ac422",
   "metadata": {
    "tags": []
   },
   "outputs": [],
   "source": [
    "listService = [\"codepipeline.amazonaws.com\", \"codebuild.amazonaws.com\"]\n",
    "strRoleName = \"-\".join([strPrefix, \"CodePipelineRole\"])\n",
    "listPolicyArn = [\n",
    "    \"arn:aws:iam::aws:policy/AWSCodeCommitFullAccess\",\n",
    "    \"arn:aws:iam::aws:policy/AmazonS3FullAccess\",\n",
    "    \"arn:aws:iam::aws:policy/AWSCodeBuildAdminAccess\",\n",
    "    \"arn:aws:iam::aws:policy/AWSCodeDeployFullAccess\",\n",
    "    \"arn:aws:iam::aws:policy/AWSCodePipeline_FullAccess\"\n",
    "]\n",
    "strDescription=\"Role for CodePipeline\""
   ]
  },
  {
   "cell_type": "code",
   "execution_count": 37,
   "id": "b144f1f6-660d-4d82-b233-4cda985f62ad",
   "metadata": {
    "tags": []
   },
   "outputs": [
    {
     "name": "stdout",
     "output_type": "stream",
     "text": [
      "== CREATE ROLE ==\n",
      "  Role Name: [DJ-SM-IMD-CodePipelineRole] is already exist!!, so, this will be deleted and re-created.\n",
      "{'ResponseMetadata': {'RequestId': 'a63b87d8-c812-471a-9bb1-109b0d1264f1', 'HTTPStatusCode': 200, 'HTTPHeaders': {'x-amzn-requestid': 'a63b87d8-c812-471a-9bb1-109b0d1264f1', 'content-type': 'text/xml', 'content-length': '212', 'date': 'Mon, 08 May 2023 08:08:19 GMT'}, 'RetryAttempts': 0}}\n",
      "arn:aws:iam::aws:policy/AWSCodeBuildAdminAccess\n",
      "{'ResponseMetadata': {'RequestId': 'f4926377-d895-4634-8d77-6658b1c2ad39', 'HTTPStatusCode': 200, 'HTTPHeaders': {'x-amzn-requestid': 'f4926377-d895-4634-8d77-6658b1c2ad39', 'content-type': 'text/xml', 'content-length': '212', 'date': 'Mon, 08 May 2023 08:08:19 GMT'}, 'RetryAttempts': 0}}\n",
      "arn:aws:iam::aws:policy/AWSCodeCommitFullAccess\n",
      "{'ResponseMetadata': {'RequestId': '8a7b913e-8874-402e-97b2-96f83b258552', 'HTTPStatusCode': 200, 'HTTPHeaders': {'x-amzn-requestid': '8a7b913e-8874-402e-97b2-96f83b258552', 'content-type': 'text/xml', 'content-length': '212', 'date': 'Mon, 08 May 2023 08:08:19 GMT'}, 'RetryAttempts': 0}}\n",
      "arn:aws:iam::aws:policy/AWSCodeDeployFullAccess\n",
      "{'ResponseMetadata': {'RequestId': 'ba765ece-e2f3-45f5-bb5b-37e2a7066009', 'HTTPStatusCode': 200, 'HTTPHeaders': {'x-amzn-requestid': 'ba765ece-e2f3-45f5-bb5b-37e2a7066009', 'content-type': 'text/xml', 'content-length': '212', 'date': 'Mon, 08 May 2023 08:08:19 GMT'}, 'RetryAttempts': 0}}\n",
      "arn:aws:iam::aws:policy/AmazonS3FullAccess\n",
      "{'ResponseMetadata': {'RequestId': 'e7638eb2-4576-4f5a-a5af-80e55b3ea734', 'HTTPStatusCode': 200, 'HTTPHeaders': {'x-amzn-requestid': 'e7638eb2-4576-4f5a-a5af-80e55b3ea734', 'content-type': 'text/xml', 'content-length': '212', 'date': 'Mon, 08 May 2023 08:08:19 GMT'}, 'RetryAttempts': 0}}\n",
      "arn:aws:iam::aws:policy/AWSCodePipeline_FullAccess\n",
      "  Service name: ['codepipeline.amazonaws.com', 'codebuild.amazonaws.com'], \n",
      "  Role name: DJ-SM-IMD-CodePipelineRole, \n",
      "  Policys: ['arn:aws:iam::aws:policy/AWSCodeCommitFullAccess', 'arn:aws:iam::aws:policy/AmazonS3FullAccess', 'arn:aws:iam::aws:policy/AWSCodeBuildAdminAccess', 'arn:aws:iam::aws:policy/AWSCodeDeployFullAccess', 'arn:aws:iam::aws:policy/AWSCodePipeline_FullAccess'], \n",
      "  Role ARN: arn:aws:iam::419974056037:role/DJ-SM-IMD-CodePipelineRole\n",
      "== COMPLETED ==\n",
      "CODE-PIPELINE-ROLE-ARN: arn:aws:iam::419974056037:role/DJ-SM-IMD-CodePipelineRole\n"
     ]
    }
   ],
   "source": [
    "pipelineRoleArn = iam.create_role(\n",
    "    listService=listService,\n",
    "    strRoleName=strRoleName,\n",
    "    listPolicyArn = listPolicyArn,\n",
    "    strDescription=strDescription\n",
    ")\n",
    "\n",
    "print (f\"CODE-PIPELINE-ROLE-ARN: {pipelineRoleArn}\")"
   ]
  },
  {
   "cell_type": "markdown",
   "id": "347b6fb0-4702-48a1-8a89-85c87a8cb656",
   "metadata": {},
   "source": [
    "### 1.6 role-eventbridge"
   ]
  },
  {
   "cell_type": "code",
   "execution_count": 38,
   "id": "854cefcd-0170-4ecd-8ed9-f8065759ca18",
   "metadata": {
    "tags": []
   },
   "outputs": [],
   "source": [
    "listService = [\"events.amazonaws.com\"]\n",
    "strRoleName = \"-\".join([strPrefix, \"EventBridgeRole\"])\n",
    "listPolicyArn = [\n",
    "    \"arn:aws:iam::aws:policy/AmazonEventBridgeFullAccess\",\n",
    "]\n",
    "strDescription=\"Role for EventBridge\""
   ]
  },
  {
   "cell_type": "code",
   "execution_count": 17,
   "id": "c2e365a8-9925-4b6f-80d0-9a0ecec3ec3b",
   "metadata": {
    "tags": []
   },
   "outputs": [
    {
     "name": "stdout",
     "output_type": "stream",
     "text": [
      "== CREATE ROLE ==\n",
      "  Role Name: [DJ-SM-IMD-EventBridgeRole] is already exist!!, so, this will be deleted and re-created.\n",
      "{'ResponseMetadata': {'RequestId': '4fa5d938-8289-4e79-83c6-6ce01d2a7602', 'HTTPStatusCode': 200, 'HTTPHeaders': {'x-amzn-requestid': '4fa5d938-8289-4e79-83c6-6ce01d2a7602', 'content-type': 'text/xml', 'content-length': '212', 'date': 'Mon, 08 May 2023 08:07:37 GMT'}, 'RetryAttempts': 0}}\n",
      "arn:aws:iam::aws:policy/AmazonEventBridgeFullAccess\n",
      "  Service name: ['events.amazonaws.com'], \n",
      "  Role name: DJ-SM-IMD-EventBridgeRole, \n",
      "  Policys: ['arn:aws:iam::aws:policy/AmazonEventBridgeFullAccess'], \n",
      "  Role ARN: arn:aws:iam::419974056037:role/DJ-SM-IMD-EventBridgeRole\n",
      "== COMPLETED ==\n",
      "CODE-PIPELINE-ROLE-ARN: arn:aws:iam::419974056037:role/DJ-SM-IMD-EventBridgeRole\n"
     ]
    }
   ],
   "source": [
    "eventBridgeRoleArn = iam.create_role(\n",
    "    listService=listService,\n",
    "    strRoleName=strRoleName,\n",
    "    listPolicyArn = listPolicyArn,\n",
    "    strDescription=strDescription\n",
    ")\n",
    "\n",
    "print (f\"CODE-PIPELINE-ROLE-ARN: {eventBridgeRoleArn}\")"
   ]
  },
  {
   "cell_type": "markdown",
   "id": "811c5923-3a13-4c78-9633-0e6944bfad2c",
   "metadata": {},
   "source": [
    "## 2. Set datasets and utils"
   ]
  },
  {
   "cell_type": "code",
   "execution_count": 44,
   "id": "b8069438-088e-4e49-a7c6-332e34efe1cb",
   "metadata": {
    "tags": []
   },
   "outputs": [],
   "source": [
    "import os\n",
    "import boto3\n",
    "import sagemaker\n",
    "from utils.s3 import s3_handler\n",
    "from utils.ssm import parameter_store"
   ]
  },
  {
   "cell_type": "code",
   "execution_count": 45,
   "id": "1914da42-1b51-4445-b792-1393f00ae739",
   "metadata": {
    "tags": []
   },
   "outputs": [
    {
     "name": "stdout",
     "output_type": "stream",
     "text": [
      "This is a S3 handler with [None] region.\n"
     ]
    }
   ],
   "source": [
    "strRegionName=boto3.Session().region_name\n",
    "\n",
    "s3 = s3_handler()\n",
    "pm = parameter_store(strRegionName)"
   ]
  },
  {
   "cell_type": "markdown",
   "id": "dfe86050-3ff5-473c-af52-ab1b48f0f238",
   "metadata": {},
   "source": [
    "### 2.1 download and move data"
   ]
  },
  {
   "cell_type": "code",
   "execution_count": 46,
   "id": "033e3bd7-20d6-42e4-af9e-971ae1446721",
   "metadata": {
    "tags": []
   },
   "outputs": [
    {
     "name": "stdout",
     "output_type": "stream",
     "text": [
      "--2023-05-08 08:10:00--  http://www.cs.toronto.edu/~kriz/cifar-10-python.tar.gz\n",
      "Resolving www.cs.toronto.edu (www.cs.toronto.edu)... 128.100.3.30\n",
      "Connecting to www.cs.toronto.edu (www.cs.toronto.edu)|128.100.3.30|:80... connected.\n",
      "HTTP request sent, awaiting response... 200 OK\n",
      "Length: 170498071 (163M) [application/x-gzip]\n",
      "Saving to: ‘./dataset/cifar-10-python.tar.gz’\n",
      "\n",
      "100%[======================================>] 170,498,071 52.2MB/s   in 3.1s   \n",
      "\n",
      "2023-05-08 08:10:04 (52.2 MB/s) - ‘./dataset/cifar-10-python.tar.gz’ saved [170498071/170498071]\n",
      "\n",
      "cifar-10-batches-py/\n",
      "cifar-10-batches-py/data_batch_4\n",
      "cifar-10-batches-py/readme.html\n",
      "cifar-10-batches-py/test_batch\n",
      "cifar-10-batches-py/data_batch_3\n",
      "cifar-10-batches-py/batches.meta\n",
      "cifar-10-batches-py/data_batch_2\n",
      "cifar-10-batches-py/data_batch_5\n",
      "cifar-10-batches-py/data_batch_1\n",
      "mv: cannot move ‘./dataset/cifar-10-batches-py’ to ‘./dataset/data/cifar-10-batches-py’: Directory not empty\n"
     ]
    }
   ],
   "source": [
    "strTmpDir = \"./dataset\"\n",
    "strInputDir = \"cifar-10-batches-py\"\n",
    "os.makedirs(strTmpDir, exist_ok=True)\n",
    "\n",
    "strFileName = os.path.join(strTmpDir, \"cifar-10-python.tar.gz\")\n",
    "!wget -O $strFileName http://www.cs.toronto.edu/~kriz/cifar-10-python.tar.gz\n",
    "!tar xfvz $strFileName -C $strTmpDir\n",
    "\n",
    "strDataPath, strTmpPath = os.path.join(strTmpDir, \"data\"), os.path.join(strTmpDir, strInputDir)\n",
    "os.makedirs(strDataPath, exist_ok=True)\n",
    "!mv $strTmpPath $strDataPath\n",
    "!rm $strFileName"
   ]
  },
  {
   "cell_type": "markdown",
   "id": "1113e062-495f-4ece-9f1f-f54c1e473cb8",
   "metadata": {},
   "source": [
    "### 2.2 upload to S3 and regiter path to parameter store"
   ]
  },
  {
   "cell_type": "code",
   "execution_count": 47,
   "id": "dd746d75-11c8-4f6c-ba59-ca7dc1808093",
   "metadata": {
    "tags": []
   },
   "outputs": [
    {
     "data": {
      "text/plain": [
       "'Store suceess'"
      ]
     },
     "execution_count": 47,
     "metadata": {},
     "output_type": "execute_result"
    }
   ],
   "source": [
    "strBucketName = sagemaker.Session().default_bucket()\n",
    "pm.put_params(key=\"-\".join([strPrefix, \"BUCKET\"]), value=strBucketName, overwrite=True)"
   ]
  },
  {
   "cell_type": "code",
   "execution_count": 48,
   "id": "6e065679-7f73-4d0c-badc-16c008888d80",
   "metadata": {
    "tags": []
   },
   "outputs": [
    {
     "name": "stdout",
     "output_type": "stream",
     "text": [
      "Upload:[./dataset/data] was uploaded to [s3://sagemaker-us-east-1-419974056037/DJ-SM-IMD-DATA]successfully\n"
     ]
    },
    {
     "data": {
      "text/plain": [
       "'Store suceess'"
      ]
     },
     "execution_count": 48,
     "metadata": {},
     "output_type": "execute_result"
    }
   ],
   "source": [
    "## upload to S3 and regiter path to parameter store\n",
    "source_dir, target_bucket, target_dir = os.path.join(strTmpDir, \"data\"), strBucketName, \"-\".join([strPrefix, \"DATA\"])\n",
    "s3.upload_dir(source_dir, target_bucket, target_dir)\n",
    "pm.put_params(key=\"-\".join([strPrefix, \"DATA-PATH\"]), value=f\"s3://{target_bucket}/{target_dir}\", overwrite=True)"
   ]
  },
  {
   "cell_type": "markdown",
   "id": "6d26e1db-491b-44b2-b9f6-4ad01893710b",
   "metadata": {
    "tags": []
   },
   "source": [
    "### 2.3 Copy utils to pipeline/utils"
   ]
  },
  {
   "cell_type": "code",
   "execution_count": 52,
   "id": "146571c8-d96f-48ac-bdb3-59f34a761224",
   "metadata": {
    "tags": []
   },
   "outputs": [],
   "source": [
    "from distutils.dir_util import copy_tree"
   ]
  },
  {
   "cell_type": "code",
   "execution_count": 53,
   "id": "e8e83634-fe63-4887-b431-9e458d790e6b",
   "metadata": {
    "tags": []
   },
   "outputs": [
    {
     "data": {
      "text/plain": [
       "['./mlops/pipeline/utils/lambda_func.py',\n",
       " './mlops/pipeline/utils/monitoringjob_utils.py',\n",
       " './mlops/pipeline/utils/ssm.py',\n",
       " './mlops/pipeline/utils/s3.py',\n",
       " './mlops/pipeline/utils/ecr.py',\n",
       " './mlops/pipeline/utils/iam.py',\n",
       " './mlops/pipeline/utils/.ipynb_checkpoints/s3-checkpoint.py',\n",
       " './mlops/pipeline/utils/.ipynb_checkpoints/iam-checkpoint.py',\n",
       " './mlops/pipeline/utils/.ipynb_checkpoints/lambda_func-checkpoint.py',\n",
       " './mlops/pipeline/utils/.ipynb_checkpoints/ssm-checkpoint.py',\n",
       " './mlops/pipeline/utils/.ipynb_checkpoints/monitoringjob_utils-checkpoint.py',\n",
       " './mlops/pipeline/utils/__pycache__/ssm.cpython-39.pyc',\n",
       " './mlops/pipeline/utils/__pycache__/s3.cpython-310.pyc',\n",
       " './mlops/pipeline/utils/__pycache__/iam.cpython-310.pyc',\n",
       " './mlops/pipeline/utils/__pycache__/ssm.cpython-37.pyc',\n",
       " './mlops/pipeline/utils/__pycache__/ssm.cpython-310.pyc',\n",
       " './mlops/pipeline/utils/__pycache__/monitoringjob_utils.cpython-310.pyc',\n",
       " './mlops/pipeline/utils/__pycache__/lambda_func.cpython-310.pyc',\n",
       " './mlops/pipeline/utils/__pycache__/iam.cpython-39.pyc']"
      ]
     },
     "execution_count": 53,
     "metadata": {},
     "output_type": "execute_result"
    }
   ],
   "source": [
    "copy_tree(\"./utils\", \"./mlops/pipeline/utils\")"
   ]
  },
  {
   "cell_type": "markdown",
   "id": "87fe7a4b-03e1-4422-8bd5-62d30e0a419f",
   "metadata": {},
   "source": [
    "## 3. Set default parameters"
   ]
  },
  {
   "cell_type": "code",
   "execution_count": 49,
   "id": "0cbbe6c5-469a-4952-ae8d-927d0dcdc19e",
   "metadata": {
    "tags": []
   },
   "outputs": [
    {
     "data": {
      "text/plain": [
       "'Store suceess'"
      ]
     },
     "execution_count": 49,
     "metadata": {},
     "output_type": "execute_result"
    }
   ],
   "source": [
    "pm.put_params(key=\"PREFIX\", value=strPrefix, overwrite=True)\n",
    "pm.put_params(key=\"-\".join([strPrefix, \"REGION\"]), value=strRegionName, overwrite=True)\n",
    "pm.put_params(key=\"-\".join([strPrefix, \"BUCKET\"]), value=sagemaker.Session().default_bucket(), overwrite=True)\n",
    "pm.put_params(key=\"-\".join([strPrefix, \"SAGEMAKER-ROLE-ARN\"]), value=get_execution_role(), overwrite=True)\n",
    "pm.put_params(key=\"-\".join([strPrefix, \"ACCOUNT-ID\"]), value=boto3.client(\"sts\").get_caller_identity().get(\"Account\"), overwrite=True)\n",
    "pm.put_params(key=\"-\".join([strPrefix, \"LAMBDA-ROLE-ARN\"]), value=lambdaRoleArn, overwrite=True)\n",
    "#pm.put_params(key=\"-\".join([strPrefix, \"CODE-BUILD-ROLE-ARN\"]), value=buildRoleArn, overwrite=True)\n",
    "#pm.put_params(key=\"-\".join([strPrefix, \"CODE-PIPELINE-ROLE-ARN\"]), value=pipelineRoleArn, overwrite=True)\n",
    "pm.put_params(key=\"-\".join([strPrefix, \"CODE-EVENTBRIDGE-ROLE-ARN\"]), value=eventBridgeRoleArn, overwrite=True)"
   ]
  },
  {
   "cell_type": "code",
   "execution_count": 50,
   "id": "91146dd9-d048-4a6b-86cc-f0aa93e2c2f8",
   "metadata": {
    "tags": []
   },
   "outputs": [
    {
     "name": "stdout",
     "output_type": "stream",
     "text": [
      "REGION:  us-east-1\n",
      "BUCKET:  sagemaker-us-east-1-419974056037\n",
      "SAGEMAKER-ROLE-ARN:  arn:aws:iam::419974056037:role/service-role/AmazonSageMaker-ExecutionRole-20221206T163436\n",
      "ACCOUNT-ID:  419974056037\n",
      "LAMBDA-ROLE-ARN:  arn:aws:iam::419974056037:role/DJ-SM-IMD-LabmdaRole\n",
      "CODE-EVENTBRIDGE-ROLE-ARN:  arn:aws:iam::419974056037:role/DJ-SM-IMD-EventBridgeRole\n",
      "DATA-PATH:  s3://sagemaker-us-east-1-419974056037/DJ-SM-IMD-DATA\n"
     ]
    }
   ],
   "source": [
    "print (\"REGION: \", pm.get_params(key=\"-\".join([strPrefix, \"REGION\"])))\n",
    "print (\"BUCKET: \", pm.get_params(key=\"-\".join([strPrefix, \"BUCKET\"])))\n",
    "print (\"SAGEMAKER-ROLE-ARN: \", pm.get_params(key=\"-\".join([strPrefix, \"SAGEMAKER-ROLE-ARN\"])))\n",
    "print (\"ACCOUNT-ID: \", pm.get_params(key=\"-\".join([strPrefix, \"ACCOUNT-ID\"])))\n",
    "print (\"LAMBDA-ROLE-ARN: \", pm.get_params(key=\"-\".join([strPrefix, \"LAMBDA-ROLE-ARN\"])))\n",
    "#print (\"CODE-BUILD-ROLE-ARN: \", pm.get_params(key=\"-\".join([strPrefix, \"CODE-BUILD-ROLE-ARN\"])))\n",
    "#print (\"CODE-PIPELINE-ROLE-ARN: \", pm.get_params(key=\"-\".join([strPrefix, \"CODE-PIPELINE-ROLE-ARN\"])))\n",
    "print (\"CODE-EVENTBRIDGE-ROLE-ARN: \", pm.get_params(key=\"-\".join([strPrefix, \"CODE-EVENTBRIDGE-ROLE-ARN\"])))\n",
    "print (\"DATA-PATH: \", pm.get_params(key=\"-\".join([strPrefix, \"DATA-PATH\"])))"
   ]
  }
 ],
 "metadata": {
  "kernelspec": {
   "display_name": "conda_python3",
   "language": "python",
   "name": "conda_python3"
  },
  "language_info": {
   "codemirror_mode": {
    "name": "ipython",
    "version": 3
   },
   "file_extension": ".py",
   "mimetype": "text/x-python",
   "name": "python",
   "nbconvert_exporter": "python",
   "pygments_lexer": "ipython3",
   "version": "3.10.8"
  },
  "vscode": {
   "interpreter": {
    "hash": "1f4a227f2552de404565d6626d9115986c409361ad6ef0bf195ad88ccd012b73"
   }
  }
 },
 "nbformat": 4,
 "nbformat_minor": 5
}
